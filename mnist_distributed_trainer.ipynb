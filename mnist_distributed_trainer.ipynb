{
 "cells": [
  {
   "cell_type": "code",
   "execution_count": 1,
   "metadata": {},
   "outputs": [
    {
     "name": "stderr",
     "output_type": "stream",
     "text": [
      "/opt/algor/gongxf/anaconda3/lib/python3.6/site-packages/h5py/__init__.py:36: FutureWarning: Conversion of the second argument of issubdtype from `float` to `np.floating` is deprecated. In future, it will be treated as `np.float64 == np.dtype(float).type`.\n",
      "  from ._conv import register_converters as _register_converters\n"
     ]
    }
   ],
   "source": [
    "import numpy as np\n",
    "import tensorflow as tf\n",
    "import tensorlayer as tl\n",
    "import gzip\n",
    "import os\n",
    "import time"
   ]
  },
  {
   "cell_type": "code",
   "execution_count": 2,
   "metadata": {},
   "outputs": [],
   "source": [
    "tf.logging.set_verbosity(tf.logging.DEBUG)\n",
    "tl.logging.set_verbosity(tl.logging.DEBUG)"
   ]
  },
  {
   "cell_type": "code",
   "execution_count": 3,
   "metadata": {},
   "outputs": [],
   "source": [
    "def make_dataset(images, labels, num_epochs=1, shuffle_data_seed=0):\n",
    "    ds1 = tf.data.Dataset.from_tensor_slices(images)\n",
    "    ds2 = tf.data.Dataset.from_tensor_slices(np.array(labels, dtype=np.int64))\n",
    "    dataset = tf.data.Dataset.zip((ds1, ds2))\n",
    "    dataset = dataset.repeat(num_epochs).shuffle(buffer_size=10000, seed=shuffle_data_seed)\n",
    "    return dataset"
   ]
  },
  {
   "cell_type": "code",
   "execution_count": 4,
   "metadata": {},
   "outputs": [],
   "source": [
    "def model(x, is_train):\n",
    "    with tf.variable_scope('mlp', reuse=tf.AUTO_REUSE):\n",
    "        network = tl.layers.InputLayer(x, name='input')\n",
    "        network = tl.layers.DropoutLayer(network, keep=0.8, name='drop1', is_fix=True, is_train=is_train)\n",
    "        network = tl.layers.DenseLayer(network, 800, tf.nn.relu, name='relu1')\n",
    "        network = tl.layers.DropoutLayer(network, keep=0.5, name='drop2', is_fix=True, is_train=is_train)\n",
    "        network = tl.layers.DenseLayer(network, 800, tf.nn.relu, name='relu2')\n",
    "        network = tl.layers.DropoutLayer(network, keep=0.5, name='drop3', is_fix=True, is_train=is_train)\n",
    "        network = tl.layers.DenseLayer(network, n_units=10, act=tf.identity, name='output')\n",
    "    return network"
   ]
  },
  {
   "cell_type": "code",
   "execution_count": 5,
   "metadata": {},
   "outputs": [],
   "source": [
    "def build_train(x, y_):\n",
    "    net = model(x, is_train=True)\n",
    "    cost = tl.cost.cross_entropy(net.outputs, y_, name='cost_train')\n",
    "    accurate_prediction = tf.equal(tf.argmax(net.outputs, 1), y_)\n",
    "    accuracy = tf.reduce_mean(tf.cast(accurate_prediction, tf.float32), name='accuracy_train')\n",
    "    log_tensors = {'cost': cost, 'accuracy': accuracy}\n",
    "    return net, cost, log_tensors"
   ]
  },
  {
   "cell_type": "code",
   "execution_count": 6,
   "metadata": {},
   "outputs": [],
   "source": [
    "def build_validation(x, y_):\n",
    "    net = model(x, is_train=False)\n",
    "    cost = tl.cost.cross_entropy(net.outputs, y_, name='cost_test')\n",
    "    accurate_prediction = tf.equal(tf.argmax(net.outputs, 1), y_)\n",
    "    accuracy = tf.reduce_mean(tf.cast(accurate_prediction, tf.float32), name='accuracy_test')\n",
    "    return net, [cost, accuracy]"
   ]
  },
  {
   "cell_type": "code",
   "execution_count": 7,
   "metadata": {},
   "outputs": [],
   "source": [
    "def _load_mnist_dataset(shape, path, name='mnist', url='http://yann.lecun.com/exdb/mnist/'):\n",
    "    \"\"\"A generic function to load mnist-like dataset.\n",
    "\n",
    "    Parameters:\n",
    "    ----------\n",
    "    shape : tuple\n",
    "        The shape of digit images.\n",
    "    path : str\n",
    "        The path that the data is downloaded to.\n",
    "    name : str\n",
    "        The dataset name you want to use(the default is 'mnist').\n",
    "    url : str\n",
    "        The url of dataset(the default is 'http://yann.lecun.com/exdb/mnist/').\n",
    "    \"\"\"\n",
    "    path = os.path.join(path, name)\n",
    "\n",
    "    # Define functions for loading mnist-like data's images and labels.\n",
    "    # For convenience, they also download the requested files if needed.\n",
    "    def load_mnist_images(path, filename):\n",
    "        #filepath = maybe_download_and_extract(filename, path, url)\n",
    "        filepath=path+'/'+filename\n",
    "#         logging.info(filepath)\n",
    "        # Read the inputs in Yann LeCun's binary format.\n",
    "        with gzip.open(filepath, 'rb') as f:\n",
    "            data = np.frombuffer(f.read(), np.uint8, offset=16)\n",
    "        # The inputs are vectors now, we reshape them to monochrome 2D images,\n",
    "        # following the shape convention: (examples, channels, rows, columns)\n",
    "        data = data.reshape(shape)\n",
    "        # The inputs come as bytes, we convert them to float32 in range [0,1].\n",
    "        # (Actually to range [0, 255/256], for compatibility to the version\n",
    "        # provided at http://deeplearning.net/data/mnist/mnist.pkl.gz.)\n",
    "        return data / np.float32(256)\n",
    "\n",
    "    def load_mnist_labels(path, filename):\n",
    "        #filepath = maybe_download_and_extract(filename, path, url)\n",
    "        # Read the labels in Yann LeCun's binary format.\n",
    "        filepath=path+'/'+filename\n",
    "        with gzip.open(filepath, 'rb') as f:\n",
    "            data = np.frombuffer(f.read(), np.uint8, offset=8)\n",
    "        # The labels are vectors of integers now, that's exactly what we want.\n",
    "        return data\n",
    "\n",
    "    # Download and read the training and test set images and labels.\n",
    "#     logging.info(\"Load or Download {0} > {1}\".format(name.upper(), path))\n",
    "    X_train = load_mnist_images(path, 'train-images-idx3-ubyte.gz')\n",
    "    y_train = load_mnist_labels(path, 'train-labels-idx1-ubyte.gz')\n",
    "    X_test = load_mnist_images(path, 't10k-images-idx3-ubyte.gz')\n",
    "    y_test = load_mnist_labels(path, 't10k-labels-idx1-ubyte.gz')\n",
    "\n",
    "    # We reserve the last 10000 training examples for validation.\n",
    "    X_train, X_val = X_train[:-10000], X_train[-10000:]\n",
    "    y_train, y_val = y_train[:-10000], y_train[-10000:]\n",
    "\n",
    "    # We just return all the arrays in order, as expected in main().\n",
    "    # (It doesn't matter how we do this as long as we can read them again.)\n",
    "    X_train = np.asarray(X_train, dtype=np.float32)\n",
    "    y_train = np.asarray(y_train, dtype=np.int32)\n",
    "    X_val = np.asarray(X_val, dtype=np.float32)\n",
    "    y_val = np.asarray(y_val, dtype=np.int32)\n",
    "    X_test = np.asarray(X_test, dtype=np.float32)\n",
    "    y_test = np.asarray(y_test, dtype=np.int32)\n",
    "    return X_train, y_train, X_val, y_val, X_test, y_test"
   ]
  },
  {
   "cell_type": "code",
   "execution_count": 8,
   "metadata": {},
   "outputs": [],
   "source": [
    "X_train, y_train, X_val, y_val, X_test, y_test = _load_mnist_dataset(shape=(-1, 784),\n",
    "                                path='/opt/algor/gongxf/python3_pj/nlp_practice/0_greatgod_series/1_tensorlayer/data/')"
   ]
  },
  {
   "cell_type": "code",
   "execution_count": 9,
   "metadata": {},
   "outputs": [],
   "source": [
    "training_dataset = make_dataset(X_train, y_train)"
   ]
  },
  {
   "cell_type": "code",
   "execution_count": 10,
   "metadata": {},
   "outputs": [
    {
     "name": "stdout",
     "output_type": "stream",
     "text": [
      "[TL] InputLayer  mlp/input: (?, 784)\n",
      "[TL] DropoutLayer mlp/drop1: keep: 0.800000 is_fix: True\n",
      "[TL] DenseLayer  mlp/relu1: 800 relu\n",
      "[TL] DropoutLayer mlp/drop2: keep: 0.500000 is_fix: True\n",
      "[TL] DenseLayer  mlp/relu2: 800 relu\n",
      "[TL] DropoutLayer mlp/drop3: keep: 0.500000 is_fix: True\n",
      "[TL] DenseLayer  mlp/output: 10 No Activation\n",
      "INFO:tensorflow:Graph was finalized.\n",
      "INFO:tensorflow:Running local_init_op.\n",
      "INFO:tensorflow:Done running local_init_op.\n"
     ]
    }
   ],
   "source": [
    "trainer = tl.distributed.Trainer(\n",
    "        build_training_func=build_train, training_dataset=training_dataset, optimizer=tf.train.AdamOptimizer,\n",
    "        optimizer_args={'learning_rate': 0.001}, batch_size=500, prefetch_size=500,max_iteration=1000\n",
    "        # validation_dataset=validation_dataset, build_validation_func=build_validation\n",
    "    )"
   ]
  },
  {
   "cell_type": "code",
   "execution_count": 11,
   "metadata": {},
   "outputs": [
    {
     "name": "stdout",
     "output_type": "stream",
     "text": [
      "INFO:tensorflow:accuracy = 0.112, cost = 9.657014, global_step = 1\n",
      "INFO:tensorflow:accuracy = 0.174, cost = 6.6361055, global_step = 2 (0.076 sec)\n",
      "INFO:tensorflow:accuracy = 0.168, cost = 6.464143, global_step = 3 (0.083 sec)\n",
      "INFO:tensorflow:accuracy = 0.246, cost = 5.466085, global_step = 4 (0.074 sec)\n",
      "INFO:tensorflow:accuracy = 0.29, cost = 4.6469584, global_step = 5 (0.065 sec)\n",
      "INFO:tensorflow:accuracy = 0.32, cost = 4.0450735, global_step = 6 (0.069 sec)\n",
      "INFO:tensorflow:accuracy = 0.352, cost = 3.3064048, global_step = 7 (0.061 sec)\n",
      "INFO:tensorflow:accuracy = 0.388, cost = 3.0487711, global_step = 8 (0.080 sec)\n",
      "INFO:tensorflow:accuracy = 0.454, cost = 2.759209, global_step = 9 (0.068 sec)\n",
      "INFO:tensorflow:accuracy = 0.46, cost = 2.609946, global_step = 10 (0.074 sec)\n",
      "INFO:tensorflow:accuracy = 0.49, cost = 2.3225017, global_step = 11 (0.073 sec)\n",
      "INFO:tensorflow:accuracy = 0.54, cost = 1.9011089, global_step = 12 (0.074 sec)\n",
      "INFO:tensorflow:accuracy = 0.492, cost = 2.1626005, global_step = 13 (0.085 sec)\n",
      "INFO:tensorflow:accuracy = 0.53, cost = 2.1075263, global_step = 14 (0.061 sec)\n",
      "INFO:tensorflow:accuracy = 0.578, cost = 1.7070355, global_step = 15 (0.097 sec)\n",
      "INFO:tensorflow:accuracy = 0.596, cost = 1.604051, global_step = 16 (0.082 sec)\n",
      "INFO:tensorflow:accuracy = 0.596, cost = 1.6403538, global_step = 17 (0.074 sec)\n",
      "INFO:tensorflow:accuracy = 0.622, cost = 1.3647285, global_step = 18 (0.073 sec)\n",
      "INFO:tensorflow:accuracy = 0.616, cost = 1.4960023, global_step = 19 (0.077 sec)\n",
      "INFO:tensorflow:accuracy = 0.612, cost = 1.5419384, global_step = 20 (0.068 sec)\n",
      "INFO:tensorflow:accuracy = 0.644, cost = 1.4396682, global_step = 21 (0.080 sec)\n",
      "INFO:tensorflow:accuracy = 0.638, cost = 1.3682904, global_step = 22 (0.089 sec)\n",
      "INFO:tensorflow:accuracy = 0.664, cost = 1.273071, global_step = 23 (0.081 sec)\n",
      "INFO:tensorflow:accuracy = 0.646, cost = 1.3389809, global_step = 24 (0.067 sec)\n",
      "INFO:tensorflow:accuracy = 0.698, cost = 1.0367241, global_step = 25 (0.083 sec)\n",
      "INFO:tensorflow:accuracy = 0.672, cost = 1.190081, global_step = 26 (0.079 sec)\n",
      "INFO:tensorflow:accuracy = 0.686, cost = 1.1603616, global_step = 27 (0.073 sec)\n",
      "INFO:tensorflow:accuracy = 0.688, cost = 1.1301736, global_step = 28 (0.080 sec)\n",
      "INFO:tensorflow:accuracy = 0.658, cost = 1.188663, global_step = 29 (0.088 sec)\n",
      "INFO:tensorflow:accuracy = 0.682, cost = 1.0972589, global_step = 30 (0.081 sec)\n",
      "INFO:tensorflow:accuracy = 0.714, cost = 1.0180442, global_step = 31 (0.069 sec)\n",
      "INFO:tensorflow:accuracy = 0.722, cost = 1.0530856, global_step = 32 (0.065 sec)\n",
      "INFO:tensorflow:accuracy = 0.738, cost = 0.9342802, global_step = 33 (0.068 sec)\n",
      "INFO:tensorflow:accuracy = 0.722, cost = 0.8931842, global_step = 34 (0.059 sec)\n",
      "INFO:tensorflow:accuracy = 0.696, cost = 1.2049398, global_step = 35 (0.060 sec)\n",
      "INFO:tensorflow:accuracy = 0.714, cost = 0.9751271, global_step = 36 (0.069 sec)\n",
      "INFO:tensorflow:accuracy = 0.734, cost = 1.0350022, global_step = 37 (0.090 sec)\n",
      "INFO:tensorflow:accuracy = 0.706, cost = 1.0410912, global_step = 38 (0.072 sec)\n",
      "INFO:tensorflow:accuracy = 0.774, cost = 0.7485853, global_step = 39 (0.077 sec)\n",
      "INFO:tensorflow:accuracy = 0.742, cost = 0.9030834, global_step = 40 (0.062 sec)\n",
      "INFO:tensorflow:accuracy = 0.744, cost = 0.89567006, global_step = 41 (0.070 sec)\n",
      "INFO:tensorflow:accuracy = 0.75, cost = 0.83162117, global_step = 42 (0.076 sec)\n",
      "INFO:tensorflow:accuracy = 0.73, cost = 0.8795575, global_step = 43 (0.088 sec)\n",
      "INFO:tensorflow:accuracy = 0.742, cost = 0.8733399, global_step = 44 (0.086 sec)\n",
      "INFO:tensorflow:accuracy = 0.756, cost = 0.8845679, global_step = 45 (0.088 sec)\n",
      "INFO:tensorflow:accuracy = 0.744, cost = 0.8880445, global_step = 46 (0.078 sec)\n",
      "INFO:tensorflow:accuracy = 0.766, cost = 0.8147051, global_step = 47 (0.099 sec)\n",
      "INFO:tensorflow:accuracy = 0.754, cost = 0.82167286, global_step = 48 (0.078 sec)\n",
      "INFO:tensorflow:accuracy = 0.76, cost = 0.71018517, global_step = 49 (0.087 sec)\n",
      "INFO:tensorflow:accuracy = 0.752, cost = 0.810465, global_step = 50 (0.084 sec)\n",
      "INFO:tensorflow:accuracy = 0.758, cost = 0.90673834, global_step = 51 (0.086 sec)\n",
      "INFO:tensorflow:accuracy = 0.76, cost = 0.7651536, global_step = 52 (0.079 sec)\n",
      "INFO:tensorflow:accuracy = 0.78, cost = 0.7719142, global_step = 53 (0.090 sec)\n",
      "INFO:tensorflow:accuracy = 0.744, cost = 0.85718983, global_step = 54 (0.077 sec)\n",
      "INFO:tensorflow:accuracy = 0.772, cost = 0.76823187, global_step = 55 (0.080 sec)\n",
      "INFO:tensorflow:accuracy = 0.746, cost = 0.8815504, global_step = 56 (0.077 sec)\n",
      "INFO:tensorflow:accuracy = 0.74, cost = 0.8772843, global_step = 57 (0.070 sec)\n",
      "INFO:tensorflow:accuracy = 0.764, cost = 0.81196344, global_step = 58 (0.067 sec)\n",
      "INFO:tensorflow:accuracy = 0.744, cost = 0.8490188, global_step = 59 (0.084 sec)\n",
      "INFO:tensorflow:accuracy = 0.754, cost = 0.72933537, global_step = 60 (0.076 sec)\n",
      "INFO:tensorflow:accuracy = 0.772, cost = 0.6995491, global_step = 61 (0.070 sec)\n",
      "INFO:tensorflow:accuracy = 0.782, cost = 0.7233881, global_step = 62 (0.086 sec)\n",
      "INFO:tensorflow:accuracy = 0.82, cost = 0.5950827, global_step = 63 (0.085 sec)\n",
      "INFO:tensorflow:accuracy = 0.788, cost = 0.6687978, global_step = 64 (0.067 sec)\n",
      "INFO:tensorflow:accuracy = 0.808, cost = 0.6879023, global_step = 65 (0.091 sec)\n",
      "INFO:tensorflow:accuracy = 0.806, cost = 0.6735361, global_step = 66 (0.072 sec)\n",
      "INFO:tensorflow:accuracy = 0.764, cost = 0.75273216, global_step = 67 (0.070 sec)\n",
      "INFO:tensorflow:accuracy = 0.75, cost = 0.8119038, global_step = 68 (0.091 sec)\n",
      "INFO:tensorflow:accuracy = 0.818, cost = 0.5912844, global_step = 69 (0.084 sec)\n",
      "INFO:tensorflow:accuracy = 0.808, cost = 0.6307849, global_step = 70 (0.077 sec)\n",
      "INFO:tensorflow:accuracy = 0.808, cost = 0.6100336, global_step = 71 (0.088 sec)\n",
      "INFO:tensorflow:accuracy = 0.824, cost = 0.58179414, global_step = 72 (0.079 sec)\n",
      "INFO:tensorflow:accuracy = 0.808, cost = 0.61809766, global_step = 73 (0.080 sec)\n",
      "INFO:tensorflow:accuracy = 0.812, cost = 0.61266154, global_step = 74 (0.085 sec)\n",
      "INFO:tensorflow:accuracy = 0.812, cost = 0.5887861, global_step = 75 (0.084 sec)\n",
      "INFO:tensorflow:accuracy = 0.772, cost = 0.721605, global_step = 76 (0.089 sec)\n",
      "INFO:tensorflow:accuracy = 0.778, cost = 0.73296046, global_step = 77 (0.068 sec)\n",
      "INFO:tensorflow:accuracy = 0.83, cost = 0.54151696, global_step = 78 (0.077 sec)\n",
      "INFO:tensorflow:accuracy = 0.806, cost = 0.5712514, global_step = 79 (0.076 sec)\n",
      "INFO:tensorflow:accuracy = 0.802, cost = 0.6455668, global_step = 80 (0.078 sec)\n",
      "INFO:tensorflow:accuracy = 0.774, cost = 0.7411013, global_step = 81 (0.074 sec)\n",
      "INFO:tensorflow:accuracy = 0.8, cost = 0.597668, global_step = 82 (0.079 sec)\n",
      "INFO:tensorflow:accuracy = 0.818, cost = 0.6161884, global_step = 83 (0.077 sec)\n",
      "INFO:tensorflow:accuracy = 0.818, cost = 0.66857845, global_step = 84 (0.083 sec)\n",
      "INFO:tensorflow:accuracy = 0.808, cost = 0.6597998, global_step = 85 (0.067 sec)\n",
      "INFO:tensorflow:accuracy = 0.836, cost = 0.5684134, global_step = 86 (0.087 sec)\n",
      "INFO:tensorflow:accuracy = 0.8, cost = 0.7182405, global_step = 87 (0.079 sec)\n",
      "INFO:tensorflow:accuracy = 0.82, cost = 0.5761509, global_step = 88 (0.076 sec)\n",
      "INFO:tensorflow:accuracy = 0.798, cost = 0.69681215, global_step = 89 (0.085 sec)\n",
      "INFO:tensorflow:accuracy = 0.83, cost = 0.58178663, global_step = 90 (0.084 sec)\n",
      "INFO:tensorflow:accuracy = 0.806, cost = 0.62298703, global_step = 91 (0.076 sec)\n",
      "INFO:tensorflow:accuracy = 0.818, cost = 0.5911595, global_step = 92 (0.070 sec)\n",
      "INFO:tensorflow:accuracy = 0.796, cost = 0.6539359, global_step = 93 (0.087 sec)\n",
      "INFO:tensorflow:accuracy = 0.83, cost = 0.553686, global_step = 94 (0.069 sec)\n",
      "INFO:tensorflow:accuracy = 0.83, cost = 0.5968374, global_step = 95 (0.064 sec)\n",
      "INFO:tensorflow:accuracy = 0.802, cost = 0.6242745, global_step = 96 (0.080 sec)\n",
      "INFO:tensorflow:accuracy = 0.846, cost = 0.55294406, global_step = 97 (0.069 sec)\n",
      "INFO:tensorflow:accuracy = 0.828, cost = 0.632318, global_step = 98 (0.071 sec)\n",
      "INFO:tensorflow:accuracy = 0.816, cost = 0.60682124, global_step = 99 (0.085 sec)\n",
      "INFO:tensorflow:accuracy = 0.826, cost = 0.527028, global_step = 100 (0.071 sec)\n",
      "use_time 9.031004428863525 100\n"
     ]
    }
   ],
   "source": [
    "start_time=time.time()\n",
    "c=0\n",
    "while not trainer.session.should_stop():\n",
    "        try:\n",
    "            # Run a training step synchronously.\n",
    "            trainer.train_on_batch()\n",
    "            # TODO: do whatever you like to the training session.\n",
    "#             print(\"22222\",trainer.session.should_stop())\n",
    "            c+=1\n",
    "        except tf.errors.OutOfRangeError:\n",
    "            # The dataset would throw the OutOfRangeError when it reaches the end\n",
    "            break\n",
    "print(\"use_time\",time.time()-start_time,c)"
   ]
  },
  {
   "cell_type": "code",
   "execution_count": 13,
   "metadata": {},
   "outputs": [],
   "source": [
    "tl.distributed.Trainer?"
   ]
  },
  {
   "cell_type": "code",
   "execution_count": 14,
   "metadata": {},
   "outputs": [],
   "source": [
    "import os"
   ]
  },
  {
   "cell_type": "code",
   "execution_count": 16,
   "metadata": {},
   "outputs": [
    {
     "data": {
      "text/plain": [
       "'mpicxx -show'"
      ]
     },
     "execution_count": 16,
     "metadata": {},
     "output_type": "execute_result"
    }
   ],
   "source": [
    "os.environ.get('HOROVOD_MPICXX_SHOW', 'mpicxx -show')"
   ]
  },
  {
   "cell_type": "code",
   "execution_count": null,
   "metadata": {},
   "outputs": [],
   "source": []
  },
  {
   "cell_type": "code",
   "execution_count": null,
   "metadata": {},
   "outputs": [],
   "source": []
  },
  {
   "cell_type": "code",
   "execution_count": null,
   "metadata": {},
   "outputs": [],
   "source": []
  },
  {
   "cell_type": "code",
   "execution_count": null,
   "metadata": {},
   "outputs": [],
   "source": []
  },
  {
   "cell_type": "code",
   "execution_count": null,
   "metadata": {},
   "outputs": [],
   "source": []
  },
  {
   "cell_type": "code",
   "execution_count": null,
   "metadata": {},
   "outputs": [],
   "source": []
  },
  {
   "cell_type": "code",
   "execution_count": null,
   "metadata": {},
   "outputs": [],
   "source": []
  },
  {
   "cell_type": "code",
   "execution_count": null,
   "metadata": {},
   "outputs": [],
   "source": []
  },
  {
   "cell_type": "code",
   "execution_count": null,
   "metadata": {},
   "outputs": [],
   "source": []
  },
  {
   "cell_type": "code",
   "execution_count": null,
   "metadata": {},
   "outputs": [],
   "source": []
  },
  {
   "cell_type": "code",
   "execution_count": null,
   "metadata": {},
   "outputs": [],
   "source": []
  },
  {
   "cell_type": "code",
   "execution_count": null,
   "metadata": {},
   "outputs": [],
   "source": []
  },
  {
   "cell_type": "code",
   "execution_count": null,
   "metadata": {},
   "outputs": [],
   "source": []
  },
  {
   "cell_type": "code",
   "execution_count": null,
   "metadata": {},
   "outputs": [],
   "source": []
  },
  {
   "cell_type": "code",
   "execution_count": null,
   "metadata": {},
   "outputs": [],
   "source": [
    "X_train, y_train, X_val, y_val, X_test, y_test = tl.files.load_mnist_dataset(shape=(-1, 784))"
   ]
  },
  {
   "cell_type": "code",
   "execution_count": null,
   "metadata": {},
   "outputs": [],
   "source": []
  },
  {
   "cell_type": "code",
   "execution_count": null,
   "metadata": {},
   "outputs": [],
   "source": []
  },
  {
   "cell_type": "code",
   "execution_count": null,
   "metadata": {},
   "outputs": [],
   "source": []
  },
  {
   "cell_type": "code",
   "execution_count": null,
   "metadata": {},
   "outputs": [],
   "source": []
  },
  {
   "cell_type": "code",
   "execution_count": null,
   "metadata": {},
   "outputs": [],
   "source": []
  },
  {
   "cell_type": "code",
   "execution_count": null,
   "metadata": {},
   "outputs": [],
   "source": []
  },
  {
   "cell_type": "code",
   "execution_count": null,
   "metadata": {},
   "outputs": [],
   "source": []
  },
  {
   "cell_type": "code",
   "execution_count": null,
   "metadata": {},
   "outputs": [],
   "source": []
  },
  {
   "cell_type": "code",
   "execution_count": null,
   "metadata": {},
   "outputs": [],
   "source": []
  },
  {
   "cell_type": "code",
   "execution_count": null,
   "metadata": {},
   "outputs": [],
   "source": []
  },
  {
   "cell_type": "code",
   "execution_count": null,
   "metadata": {},
   "outputs": [],
   "source": []
  },
  {
   "cell_type": "code",
   "execution_count": null,
   "metadata": {},
   "outputs": [],
   "source": []
  }
 ],
 "metadata": {
  "kernelspec": {
   "display_name": "Python 3",
   "language": "python",
   "name": "python3"
  },
  "language_info": {
   "codemirror_mode": {
    "name": "ipython",
    "version": 3
   },
   "file_extension": ".py",
   "mimetype": "text/x-python",
   "name": "python",
   "nbconvert_exporter": "python",
   "pygments_lexer": "ipython3",
   "version": "3.6.4"
  }
 },
 "nbformat": 4,
 "nbformat_minor": 2
}
